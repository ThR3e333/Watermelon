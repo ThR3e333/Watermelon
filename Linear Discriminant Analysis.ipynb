{
 "cells": [
  {
   "cell_type": "markdown",
   "source": [
    "# Linear Discriminant Analysis\n",
    "\n",
    "LDA is a generalization of Fisher's linear discriminant used for dimensionality reduction before classification. Compared to PCA, LDA is a supervised algorithm.\n",
    "\n",
    "The basic idea of LDA is to project data points onto a line to maximize the between-class scatter and minimize the within-class scatter.\n",
    "\n",
    "## LDA for Binary Classification\n",
    "\n",
    "Given a dataset,\n",
    "\n",
    "\\begin{equation}\n",
    "D = \\{(x_1, y_1), (x_2, y_2), \\dots, (x_m, y_m)\\}, \\ x_i = (x_{i1}, x_{i2}, ..., x_{in}),\\ y_i\\in\\{0,1\\}\n",
    "\\end{equation}\n",
    "\n",
    "The mean of the category $j$,\n",
    "\n",
    "\\begin{equation}\n",
    "\\boldsymbol\\mu_{j} = \\frac{1}{N_{j}} \\sum_{\\boldsymbol{x} \\in \\mathcal{X}_{j}}\\boldsymbol{x}\n",
    "\\end{equation}\n",
    "\n",
    "The covariance matrix of the category $j$,\n",
    "\\begin{equation}\n",
    "\\boldsymbol{\\Sigma}_{j} = \\sum_{\\boldsymbol{x} \\in \\mathcal{X}_{j}}(\\boldsymbol{x}-\\boldsymbol{\\mu}_{j})(\\boldsymbol{x}-\\boldsymbol{\\mu}_{j})^\\top\n",
    "\\end{equation}\n",
    "\n",
    "$N_{j}$ is the number of examples in category $j$, $\\mathcal{X}_{j}$ is the set of examples of category $j$.\n",
    "\n",
    "Projecting all the examples onto a line $\\boldsymbol{w}$, for each category, the mean is $\\boldsymbol{w}^\\top \\boldsymbol{\\mu}_j$, the covariance matrix is $\\boldsymbol{w}^\\top \\boldsymbol{\\Sigma}_{j} \\boldsymbol{w}$.\n",
    "\n",
    "Define the between-class scatter matrix,\n",
    "\n",
    "\\begin{equation}\n",
    "\\boldsymbol{S}_{b} = (\\boldsymbol{\\mu}_0 - \\boldsymbol{\\mu}_1)(\\boldsymbol{\\mu}_0 - \\boldsymbol{\\mu}_1)^\\top\n",
    "\\end{equation}\n",
    "\n",
    "The within-class scatter,\n",
    "\n",
    "\\begin{equation}\n",
    "\\boldsymbol{S}_{w} = \\boldsymbol{\\Sigma}_{0} + \\boldsymbol{\\Sigma}_{1} = \\sum_{\\boldsymbol{x} \\in \\boldsymbol{X}_{0}}(\\boldsymbol{x}-\\boldsymbol{\\mu}_0)(\\boldsymbol{x}-\\boldsymbol{\\mu}_0)^\\top + \\sum_{\\boldsymbol{x} \\in \\boldsymbol{X}_{0}}(\\boldsymbol{x}-\\boldsymbol{\\mu}_1)(\\boldsymbol{x}-\\boldsymbol{\\mu}_1)^\\top\n",
    "\\end{equation}\n",
    "\n",
    "On the line $\\boldsymbol{w}$, to keep two categories as far as possible, which is equivalent to maximize the distance between the centres of two categories i.e. $\\max \\lVert\\boldsymbol{w}^\\top \\boldsymbol{\\mu}_0 - \\boldsymbol{w}^\\top \\boldsymbol{\\mu}_1\\rVert_{2}^{2}$. To keep the points of the same category keep as close as possible, which is equivalent to minimize the covariance of the points in the same category i.e. $\\min (\\boldsymbol{w}^\\top \\boldsymbol{\\Sigma}_{0} \\boldsymbol{w} + \\boldsymbol{w}^\\top \\boldsymbol{\\Sigma}_{1} \\boldsymbol{w})$ In summary, the goal is to maximize,\n",
    "\n",
    "\\begin{equation}\n",
    "\\mathcal{L}(\\boldsymbol{w}) &= \\frac{\\lVert\\boldsymbol{w}^\\top \\boldsymbol{\\mu}_0 - \\boldsymbol{w}^\\top \\boldsymbol{\\mu}_1\\rVert_{2}^{2}} {\\boldsymbol{w}^\\top \\boldsymbol{\\Sigma}_{0} \\boldsymbol{w} + \\boldsymbol{w}^\\top \\boldsymbol{\\Sigma}_{1} \\boldsymbol{w}}\\\\\n",
    "& = \\frac{\\boldsymbol{w}^\\top (\\boldsymbol{\\mu}_0 - \\boldsymbol{\\mu}_1)(\\boldsymbol{\\mu}_0 - \\boldsymbol{\\mu}_1)^\\top \\boldsymbol{w}}{\\boldsymbol{w}^\\top(\\boldsymbol{\\Sigma}_{0} + \\boldsymbol{\\Sigma}_{1})\\boldsymbol{w}}\\\\\n",
    "& = \\frac{\\boldsymbol{w}^\\top\\boldsymbol{S}_{b}\\boldsymbol{w}} {\\boldsymbol{w}^\\top\\boldsymbol{S}_{w}\\boldsymbol{w}}\n",
    "\\end{equation}\n",
    "\n",
    "In other words, maximize the general Rayleigh quotient of $\\boldsymbol{S}_{b}$ and $\\boldsymbol{S}_{w}$.\n",
    "\n",
    "Setting $\\boldsymbol{w}^\\top\\boldsymbol{S}_{w}\\boldsymbol{w}$ to one, i.e.\n",
    "\n",
    "\\begin{equation}\n",
    "\\min_{\\boldsymbol{w}} -\\boldsymbol{w}^\\top\\boldsymbol{S}_{b}\\boldsymbol{w} \\ s.t. \\ \\boldsymbol{w}^\\top\\boldsymbol{S}_{w}\\boldsymbol{w}=1\n",
    "\\end{equation}\n",
    "\n",
    "Lagrange multiplier,\n",
    "\n",
    "\\begin{equation}\n",
    "\\mathcal{L}(\\boldsymbol{w}, \\lambda) = -\\boldsymbol{w}^\\top\\boldsymbol{S}_{b}\\boldsymbol{w} + \\lambda(\\boldsymbol{w}^\\top\\boldsymbol{S}_{w}\\boldsymbol{w}-1)\n",
    "\\end{equation}\n",
    "\n",
    "Calculating the partial derivative with respect to $\\boldsymbol{w}$,\n",
    "\n",
    "\\begin{equation}\n",
    "\\frac{\\mathcal{L}(\\boldsymbol{w}, \\lambda)}{\\partial \\boldsymbol{w}} = -(\\boldsymbol{S}_b + \\boldsymbol{S}_b^\\top)\\boldsymbol{w} + \\lambda(\\boldsymbol{S}_w + \\boldsymbol{S}_w^\\top)\\boldsymbol{w}\n",
    "\\end{equation}\n",
    "\n",
    "$\\boldsymbol{S}_{b}$ and $\\boldsymbol{S}_{w}$ are symmetric matrix, therefore,\n",
    "\n",
    "\\begin{equation}\n",
    "\\frac{\\mathcal{L}(\\boldsymbol{w}, \\lambda)}{\\partial \\boldsymbol{w}} =-2\\boldsymbol{S}_{b}\\boldsymbol{w} + 2\\lambda\\boldsymbol{S}_{w}\\boldsymbol{w}\n",
    "\\end{equation}\n",
    "\n",
    "Setting it to zero,\n",
    "\n",
    "\\begin{equation}\n",
    "\\boldsymbol{S}_{b}\\boldsymbol{w} = \\lambda\\boldsymbol{S}_{w}\\boldsymbol{w}\\\\\n",
    "(\\boldsymbol{\\mu}_0-\\boldsymbol{\\mu}_1)(\\boldsymbol{\\mu}_0-\\boldsymbol{\\mu}_1)^\\top\\boldsymbol{w} = \\lambda\\boldsymbol{S}_{w}\\boldsymbol{w}\n",
    "\\end{equation}\n",
    "\n",
    "$(\\boldsymbol{\\mu}_0-\\boldsymbol{\\mu}_1)^\\top\\boldsymbol{w}$ is a scalar,\n",
    "\n",
    "\\begin{equation}\n",
    "(\\boldsymbol{\\mu}_0-\\boldsymbol{\\mu}_1)\\gamma = \\lambda\\boldsymbol{S}_{w}\\boldsymbol{w}\\\\\n",
    "\\boldsymbol{w} = \\frac{\\gamma}{\\lambda}\\boldsymbol{S}_{w}^{-1}(\\boldsymbol{\\mu}_0-\\boldsymbol{\\mu}_1)\n",
    "\\end{equation}\n",
    "\n",
    "Setting $\\frac{\\gamma}{\\lambda}$ to one, we get the solution.\n",
    "\n",
    "For multiple classes,\n",
    "\n",
    "\\begin{equation}\n",
    "\\boldsymbol{S}_w = \\sum_{i=1}^{N}\\boldsymbol{S}_{w_{i}}\n",
    "\\end{equation}\n",
    "\n",
    "\\begin{equation}\n",
    "\\boldsymbol{S}_{w_{i}} = \\sum_{\\boldsymbol{x} \\in X_{i}}(\\boldsymbol{x} - \\boldsymbol{\\mu}_{i})(\\boldsymbol{x} - \\boldsymbol{\\mu}_{i})^\\top\n",
    "\\end{equation}\n",
    "\n",
    "\\begin{equation}\n",
    "\\boldsymbol{S}_{b} = \\sum_{i=1}^{N}m_{i}(\\boldsymbol{\\mu}_{i}-\\boldsymbol{\\mu})(\\boldsymbol{\\mu}_{i}-\\boldsymbol{\\mu})^\\top\n",
    "\\end{equation}\n",
    "\n",
    "In the same way, maximize the general Rayleigh quotient, or equivalently,\n",
    "\n",
    "\\begin{equation}\n",
    "&\\min_{\\boldsymbol{W}} - tr(\\boldsymbol{W}^\\top \\boldsymbol{S}_b \\boldsymbol{W}) {tr(\\boldsymbol{W}^\\top \\boldsymbol{S}_w \\boldsymbol{W})} \\\\\n",
    "& s.t. \\quad tr(\\boldsymbol{W}^\\top \\boldsymbol{S}_w \\boldsymbol{W})=1\n",
    "\\end{equation}\n",
    "\n",
    "Lagrange multiplier, setting the partial derivative with respect to $\\boldsymbol{W}$\n",
    "\n",
    "\\begin{equation}\n",
    "\\boldsymbol{S}_b \\boldsymbol{W} = \\lambda \\boldsymbol{S}_w \\boldsymbol{W}\n",
    "\\end{equation}\n",
    "\n",
    "The closed-form solution for $\\boldsymbol{W}$ is the matrix consisting of the eigenvectors corresponding to $d$ largest eigenvalues."
   ],
   "metadata": {
    "collapsed": false,
    "pycharm": {
     "name": "#%% md\n"
    }
   }
  },
  {
   "cell_type": "code",
   "execution_count": 100,
   "outputs": [],
   "source": [
    "import sys\n",
    "sys.path.insert(0, 'D:\\PyCharm 2022.1.1\\TensorFlow\\myML')\n",
    "import tensorflow as tf\n",
    "import matplotlib.pyplot as plt\n",
    "import myML\n",
    "import numpy as np"
   ],
   "metadata": {
    "collapsed": false,
    "pycharm": {
     "name": "#%%\n"
    }
   }
  },
  {
   "cell_type": "markdown",
   "source": [
    "## 2 Classes 2 Features"
   ],
   "metadata": {
    "collapsed": false,
    "pycharm": {
     "name": "#%% md\n"
    }
   }
  },
  {
   "cell_type": "code",
   "execution_count": 101,
   "outputs": [],
   "source": [
    "N = [6, 12]\n",
    "mu = [[3, 5], [5, 2]]\n",
    "sigma = [\n",
    "          [[0.1, 0.05],\n",
    "           [0.05, 0.1]],\n",
    "          [[0.1, 0.05],\n",
    "           [0.05, 0.1]]\n",
    "        ]\n",
    "X,y = myML.dataGen_categorical(N, mu, sigma)"
   ],
   "metadata": {
    "collapsed": false,
    "pycharm": {
     "name": "#%%\n"
    }
   }
  },
  {
   "cell_type": "code",
   "execution_count": 102,
   "outputs": [],
   "source": [
    "w = myML.LDA(X,y)\n",
    "w = w[:,:1]"
   ],
   "metadata": {
    "collapsed": false,
    "pycharm": {
     "name": "#%%\n"
    }
   }
  },
  {
   "cell_type": "code",
   "execution_count": 103,
   "outputs": [],
   "source": [
    "X_t = (tf.matmul(X, w) / tf.matmul(tf.transpose(w), w)) @ tf.transpose(w)"
   ],
   "metadata": {
    "collapsed": false,
    "pycharm": {
     "name": "#%%\n"
    }
   }
  },
  {
   "cell_type": "code",
   "execution_count": 104,
   "outputs": [
    {
     "data": {
      "text/plain": "<matplotlib.collections.PathCollection at 0x23757ce25e0>"
     },
     "execution_count": 104,
     "metadata": {},
     "output_type": "execute_result"
    },
    {
     "data": {
      "text/plain": "<Figure size 640x480 with 1 Axes>",
      "image/png": "[encoded data removed]"
     },
     "metadata": {},
     "output_type": "display_data"
    }
   ],
   "source": [
    "plt.scatter(X[:,0],X[:,1],c =y)\n",
    "plt.scatter(X_t[:,0],X_t[:,1],c =y)"
   ],
   "metadata": {
    "collapsed": false,
    "pycharm": {
     "name": "#%%\n"
    }
   }
  },
  {
   "cell_type": "markdown",
   "source": [
    "## 3 Classes 2 Features"
   ],
   "metadata": {
    "collapsed": false,
    "pycharm": {
     "name": "#%% md\n"
    }
   }
  },
  {
   "cell_type": "code",
   "execution_count": 105,
   "outputs": [],
   "source": [
    "N = [6, 12, 20]\n",
    "mu = [[3, 5], [5, 2], [4,8]]\n",
    "sigma = [\n",
    "    [[0.1, 0.05],\n",
    "     [0.05, 0.1]],\n",
    "    [[0.1, 0.05],\n",
    "     [0.05, 0.1]],\n",
    "    [[0.1, 0.05],\n",
    "     [0.05, 0.1]],\n",
    "]\n",
    "X, y = myML.dataGen_categorical(N, mu, sigma)"
   ],
   "metadata": {
    "collapsed": false,
    "pycharm": {
     "name": "#%%\n"
    }
   }
  },
  {
   "cell_type": "code",
   "execution_count": 106,
   "outputs": [],
   "source": [
    "w = myML.LDA(X,y)[:,:1]"
   ],
   "metadata": {
    "collapsed": false,
    "pycharm": {
     "name": "#%%\n"
    }
   }
  },
  {
   "cell_type": "code",
   "execution_count": 107,
   "outputs": [],
   "source": [
    "X_t = (tf.matmul(X, w) / tf.matmul(tf.transpose(w), w)) @ tf.transpose(w)"
   ],
   "metadata": {
    "collapsed": false,
    "pycharm": {
     "name": "#%%\n"
    }
   }
  },
  {
   "cell_type": "code",
   "execution_count": 108,
   "outputs": [
    {
     "data": {
      "text/plain": "<matplotlib.collections.PathCollection at 0x23757d67ee0>"
     },
     "execution_count": 108,
     "metadata": {},
     "output_type": "execute_result"
    },
    {
     "data": {
      "text/plain": "<Figure size 640x480 with 1 Axes>",
      "image/png": "[encoded data removed]"
     },
     "metadata": {},
     "output_type": "display_data"
    }
   ],
   "source": [
    "plt.scatter(X[:,0],X[:,1],c =y)\n",
    "plt.scatter(X_t[:,0],X_t[:,1],c =y)"
   ],
   "metadata": {
    "collapsed": false,
    "pycharm": {
     "name": "#%%\n"
    }
   }
  },
  {
   "cell_type": "markdown",
   "source": [
    "## Summary\n",
    "1. Projection onto a line, projection matrix $P$, $p=\\frac{\\boldsymbol{a}\\boldsymbol{a}^\\top}{\\boldsymbol{a}^\\top\\boldsymbol{a}}\\boldsymbol{b} = \\boldsymbol{P}\\boldsymbol{b}$.\n",
    "2. Projection onto a plane, projection matrix $P$, $p=\\boldsymbol{A}(\\boldsymbol{A}^\\top \\boldsymbol{A})^{-1}\\boldsymbol{A}^\\top\\boldsymbol{b} = \\boldsymbol{P}\\boldsymbol{b}$"
   ],
   "metadata": {
    "collapsed": false,
    "pycharm": {
     "name": "#%% md\n"
    }
   }
  }
 ],
 "metadata": {
  "kernelspec": {
   "display_name": "Python 3",
   "language": "python",
   "name": "python3"
  },
  "language_info": {
   "codemirror_mode": {
    "name": "ipython",
    "version": 2
   },
   "file_extension": ".py",
   "mimetype": "text/x-python",
   "name": "python",
   "nbconvert_exporter": "python",
   "pygments_lexer": "ipython2",
   "version": "2.7.6"
  }
 },
 "nbformat": 4,
 "nbformat_minor": 0
}