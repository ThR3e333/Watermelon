{
 "cells": [
  {
   "cell_type": "markdown",
   "source": [
    "# ID3\n",
    "\n",
    "Decision tree is a common machine learning algorithm that is based on tree structure. The goal of decision tree learning is to generate a tree with good generalization.\n",
    "\n",
    "## Information Gain\n",
    "\n",
    "Information entropy is the average amount of information conveyed by an event, when considering all possible outcomes. Assume the percentage of the $k$th class is $p_k$ in set $D$, the information entropy of $D$ is defined by,\n",
    "\n",
    "\\begin{equation}\n",
    "Ent(D) = -\\sum_{k=1}^{n}p_{k}\\log_{2}p_k\n",
    "\\end{equation}\n",
    "\n",
    "The smaller the $Ent(D)$, the higher the purity of $D$.\n",
    "The information gain is defined by,\n",
    "\n",
    "\\begin{equation}\n",
    "Gain(D,a) = Ent(D)-\\sum_{v=1}^{V}\\frac{|D^v|}{|D|}Ent(D^v)\n",
    "\\end{equation}\n",
    "\n",
    "where $a$ is a feature e.g., a column of a Dataframe containing $V$ classes. $D^v$ the number of samples in $k$th class. $\\frac{|D^v|}{|D|}$ implies the class with more samples impacts more.\n",
    "Higher information gain means the information entropy of the feature $a$ is lower - the purity of this attribute is higher, in other words, more entropy is removed.\n",
    "\n",
    "The ID3 algorithm choose the feature with the highest information gain to build the tree."
   ],
   "metadata": {
    "collapsed": false,
    "pycharm": {
     "name": "#%% md\n"
    }
   }
  },
  {
   "cell_type": "code",
   "execution_count": 38,
   "metadata": {
    "collapsed": true,
    "pycharm": {
     "name": "#%%\n"
    }
   },
   "outputs": [],
   "source": [
    "import numpy as np\n",
    "import pandas as pd\n",
    "import pprint"
   ]
  },
  {
   "cell_type": "code",
   "execution_count": 39,
   "outputs": [
    {
     "data": {
      "text/plain": "    色泽  根蒂  敲声  纹理  脐部  触感 好瓜\n0   青绿  蜷缩  浊响  清晰  凹陷  硬滑  是\n1   乌黑  蜷缩  沉闷  清晰  凹陷  硬滑  是\n2   乌黑  蜷缩  浊响  清晰  凹陷  硬滑  是\n3   青绿  蜷缩  沉闷  清晰  凹陷  硬滑  是\n4   浅白  蜷缩  浊响  清晰  凹陷  硬滑  是\n5   青绿  稍蜷  浊响  清晰  稍凹  软粘  是\n6   乌黑  稍蜷  浊响  稍糊  稍凹  软粘  是\n7   乌黑  稍蜷  浊响  清晰  稍凹  硬滑  是\n8   乌黑  稍蜷  沉闷  稍糊  稍凹  硬滑  否\n9   青绿  硬挺  清脆  清晰  平坦  软粘  否\n10  浅白  硬挺  清脆  模糊  平坦  硬滑  否\n11  浅白  蜷缩  浊响  模糊  平坦  软粘  否\n12  青绿  稍蜷  浊响  稍糊  凹陷  硬滑  否\n13  浅白  稍蜷  沉闷  稍糊  凹陷  硬滑  否\n14  乌黑  稍蜷  浊响  清晰  稍凹  软粘  否\n15  浅白  蜷缩  浊响  模糊  平坦  硬滑  否\n16  青绿  蜷缩  沉闷  稍糊  稍凹  硬滑  否",
      "text/html": "<div>\n<style scoped>\n    .dataframe tbody tr th:only-of-type {\n        vertical-align: middle;\n    }\n\n    .dataframe tbody tr th {\n        vertical-align: top;\n    }\n\n    .dataframe thead th {\n        text-align: right;\n    }\n</style>\n<table border=\"1\" class=\"dataframe\">\n  <thead>\n    <tr style=\"text-align: right;\">\n      <th></th>\n      <th>色泽</th>\n      <th>根蒂</th>\n      <th>敲声</th>\n      <th>纹理</th>\n      <th>脐部</th>\n      <th>触感</th>\n      <th>好瓜</th>\n    </tr>\n  </thead>\n  <tbody>\n    <tr>\n      <th>0</th>\n      <td>青绿</td>\n      <td>蜷缩</td>\n      <td>浊响</td>\n      <td>清晰</td>\n      <td>凹陷</td>\n      <td>硬滑</td>\n      <td>是</td>\n    </tr>\n    <tr>\n      <th>1</th>\n      <td>乌黑</td>\n      <td>蜷缩</td>\n      <td>沉闷</td>\n      <td>清晰</td>\n      <td>凹陷</td>\n      <td>硬滑</td>\n      <td>是</td>\n    </tr>\n    <tr>\n      <th>2</th>\n      <td>乌黑</td>\n      <td>蜷缩</td>\n      <td>浊响</td>\n      <td>清晰</td>\n      <td>凹陷</td>\n      <td>硬滑</td>\n      <td>是</td>\n    </tr>\n    <tr>\n      <th>3</th>\n      <td>青绿</td>\n      <td>蜷缩</td>\n      <td>沉闷</td>\n      <td>清晰</td>\n      <td>凹陷</td>\n      <td>硬滑</td>\n      <td>是</td>\n    </tr>\n    <tr>\n      <th>4</th>\n      <td>浅白</td>\n      <td>蜷缩</td>\n      <td>浊响</td>\n      <td>清晰</td>\n      <td>凹陷</td>\n      <td>硬滑</td>\n      <td>是</td>\n    </tr>\n    <tr>\n      <th>5</th>\n      <td>青绿</td>\n      <td>稍蜷</td>\n      <td>浊响</td>\n      <td>清晰</td>\n      <td>稍凹</td>\n      <td>软粘</td>\n      <td>是</td>\n    </tr>\n    <tr>\n      <th>6</th>\n      <td>乌黑</td>\n      <td>稍蜷</td>\n      <td>浊响</td>\n      <td>稍糊</td>\n      <td>稍凹</td>\n      <td>软粘</td>\n      <td>是</td>\n    </tr>\n    <tr>\n      <th>7</th>\n      <td>乌黑</td>\n      <td>稍蜷</td>\n      <td>浊响</td>\n      <td>清晰</td>\n      <td>稍凹</td>\n      <td>硬滑</td>\n      <td>是</td>\n    </tr>\n    <tr>\n      <th>8</th>\n      <td>乌黑</td>\n      <td>稍蜷</td>\n      <td>沉闷</td>\n      <td>稍糊</td>\n      <td>稍凹</td>\n      <td>硬滑</td>\n      <td>否</td>\n    </tr>\n    <tr>\n      <th>9</th>\n      <td>青绿</td>\n      <td>硬挺</td>\n      <td>清脆</td>\n      <td>清晰</td>\n      <td>平坦</td>\n      <td>软粘</td>\n      <td>否</td>\n    </tr>\n    <tr>\n      <th>10</th>\n      <td>浅白</td>\n      <td>硬挺</td>\n      <td>清脆</td>\n      <td>模糊</td>\n      <td>平坦</td>\n      <td>硬滑</td>\n      <td>否</td>\n    </tr>\n    <tr>\n      <th>11</th>\n      <td>浅白</td>\n      <td>蜷缩</td>\n      <td>浊响</td>\n      <td>模糊</td>\n      <td>平坦</td>\n      <td>软粘</td>\n      <td>否</td>\n    </tr>\n    <tr>\n      <th>12</th>\n      <td>青绿</td>\n      <td>稍蜷</td>\n      <td>浊响</td>\n      <td>稍糊</td>\n      <td>凹陷</td>\n      <td>硬滑</td>\n      <td>否</td>\n    </tr>\n    <tr>\n      <th>13</th>\n      <td>浅白</td>\n      <td>稍蜷</td>\n      <td>沉闷</td>\n      <td>稍糊</td>\n      <td>凹陷</td>\n      <td>硬滑</td>\n      <td>否</td>\n    </tr>\n    <tr>\n      <th>14</th>\n      <td>乌黑</td>\n      <td>稍蜷</td>\n      <td>浊响</td>\n      <td>清晰</td>\n      <td>稍凹</td>\n      <td>软粘</td>\n      <td>否</td>\n    </tr>\n    <tr>\n      <th>15</th>\n      <td>浅白</td>\n      <td>蜷缩</td>\n      <td>浊响</td>\n      <td>模糊</td>\n      <td>平坦</td>\n      <td>硬滑</td>\n      <td>否</td>\n    </tr>\n    <tr>\n      <th>16</th>\n      <td>青绿</td>\n      <td>蜷缩</td>\n      <td>沉闷</td>\n      <td>稍糊</td>\n      <td>稍凹</td>\n      <td>硬滑</td>\n      <td>否</td>\n    </tr>\n  </tbody>\n</table>\n</div>"
     },
     "execution_count": 39,
     "metadata": {},
     "output_type": "execute_result"
    }
   ],
   "source": [
    "df = pd.read_csv(\"Dataset\\Watermelon2.0.txt\")\n",
    "df.pop('编号')\n",
    "df"
   ],
   "metadata": {
    "collapsed": false,
    "pycharm": {
     "name": "#%%\n"
    }
   }
  },
  {
   "cell_type": "code",
   "execution_count": 40,
   "outputs": [
    {
     "name": "stdout",
     "output_type": "stream",
     "text": [
      "{'纹理': {'模糊': '否',\n",
      "        '清晰': {'根蒂': {'硬挺': '否',\n",
      "                      '稍蜷': {'色泽': {'乌黑': {'触感': {'硬滑': '是', '软粘': '否'}},\n",
      "                                    '青绿': '是'}},\n",
      "                      '蜷缩': '是'}},\n",
      "        '稍糊': {'触感': {'硬滑': '否', '软粘': '是'}}}}\n"
     ]
    }
   ],
   "source": [
    "class ID3:\n",
    "    def __init__(self):\n",
    "        self.tree = None\n",
    "\n",
    "    def info_entropy(self, col):\n",
    "        entropy = -sum([prob * np.log2(prob) for prob in col.value_counts()/len(col)])\n",
    "        return entropy\n",
    "\n",
    "    def split_dataframe(self, df, col_name):\n",
    "        result_dict = {}\n",
    "\n",
    "        for key in df[col_name].unique():\n",
    "            result_dict[key]= df[:][df[col_name]==key]\n",
    "\n",
    "        return result_dict\n",
    "\n",
    "    def info_gain(self, df, label):\n",
    "        Ent = self.info_entropy(df[label])\n",
    "        cols = [col for col in df.columns if col != label]\n",
    "        max_gain = float('-inf')\n",
    "        best_col = None\n",
    "        best_sub_df = None\n",
    "\n",
    "        for col in cols:\n",
    "            sub_df = self.split_dataframe(df, col)\n",
    "            Ent_A = 0.0\n",
    "\n",
    "            for value in sub_df.values():\n",
    "                Ent_i = self.info_entropy(value[label])\n",
    "                Ent_A += len(value)/len(df)*Ent_i\n",
    "            gain = Ent-Ent_A\n",
    "\n",
    "            if gain > max_gain:\n",
    "                max_gain = gain\n",
    "                best_col = col\n",
    "\n",
    "                for key in sub_df.values():\n",
    "                    key.drop(columns=best_col, inplace=True)\n",
    "                best_sub_df = sub_df\n",
    "\n",
    "        return max_gain, best_col, best_sub_df\n",
    "\n",
    "    def fit(self, data, label):\n",
    "        self.tree = self._train(data, label)\n",
    "\n",
    "    def _train(self, data, label, root = None):\n",
    "        _, best_col, sub_df = self.info_gain(data, label)\n",
    "\n",
    "        if sub_df is None:\n",
    "            return\n",
    "\n",
    "        if root is None:\n",
    "            root = {}\n",
    "            root[best_col] = {}\n",
    "\n",
    "        for key, value in sub_df.items():\n",
    "            if len(np.unique(value[label])) == 1:\n",
    "                root[best_col][key] = value[label].iloc[0]\n",
    "            else:\n",
    "                root[best_col][key] = self._train(value, label)\n",
    "\n",
    "        return root\n",
    "\n",
    "    def predict(self, data):\n",
    "        return self._predict(data, self.tree)\n",
    "\n",
    "    def _predict(self, data, root):\n",
    "\n",
    "        for key in root.keys():\n",
    "            value = data[key]\n",
    "            root = root[key][value]\n",
    "            prediction = None\n",
    "\n",
    "            if type(root) is dict:\n",
    "                prediction = self._predict(data, root)\n",
    "\n",
    "            else:\n",
    "                prediction = root\n",
    "                break\n",
    "\n",
    "        return prediction\n",
    "\n",
    "label = '好瓜'\n",
    "tree = ID3()\n",
    "tree.fit(df, label)\n",
    "pprint.pprint(tree.tree)"
   ],
   "metadata": {
    "collapsed": false,
    "pycharm": {
     "name": "#%%\n"
    }
   }
  },
  {
   "cell_type": "markdown",
   "source": [
    "## Summery\n",
    "\n",
    "1. The term $\\frac{|D^v|}{|D|}$ makes the ID3 prefer the feature with more classes.\n",
    "2. A little tricky to build the tree using recursion.\n",
    "3. ID3 is quite easy to overfit the data, to avoid overfitting, smaller trees should be preferred over larger ones; pruning should be used in practice."
   ],
   "metadata": {
    "collapsed": false
   }
  }
 ],
 "metadata": {
  "kernelspec": {
   "display_name": "Python 3",
   "language": "python",
   "name": "python3"
  },
  "language_info": {
   "codemirror_mode": {
    "name": "ipython",
    "version": 2
   },
   "file_extension": ".py",
   "mimetype": "text/x-python",
   "name": "python",
   "nbconvert_exporter": "python",
   "pygments_lexer": "ipython2",
   "version": "2.7.6"
  }
 },
 "nbformat": 4,
 "nbformat_minor": 0
}
